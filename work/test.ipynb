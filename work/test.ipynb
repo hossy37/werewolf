{
 "cells": [
  {
   "cell_type": "code",
   "execution_count": 1,
   "metadata": {},
   "outputs": [],
   "source": [
    "import pandas as pd\n",
    "import dataclasses"
   ]
  },
  {
   "cell_type": "code",
   "execution_count": null,
   "metadata": {},
   "outputs": [],
   "source": [
    "@dataclasses\n",
    "class Camp:\n",
    "    name: str\n",
    "\n",
    "@dataclasses\n",
    "class Role:\n",
    "    name: str\n",
    "    description: str\n",
    "    camp: Camp\n",
    "\n",
    "@dataclasses\n",
    "class Regulation:\n",
    "    werewolf: int\n",
    "    villager: int\n",
    "    seer: int\n",
    "    bodyguard: int\n",
    "    fanatic: int\n",
    "    num_players: int\n",
    "\n",
    "@dataclasses\n",
    "class State:\n",
    "    regulation: Regulation\n",
    "    player: Player"
   ]
  },
  {
   "cell_type": "code",
   "execution_count": null,
   "metadata": {},
   "outputs": [],
   "source": [
    "# 状況を基に各役職の確率を計算する\n",
    "class Player:\n",
    "    def __init__(self, regulation, role):\n",
    "        self.regulation = regulation\n",
    "        self.role = role\n",
    "        # 各役職の確率の初期値(一律かつ合計がレギュレーションのある人数になるように設定)\n",
    "        self.predictions = {\n",
    "            role: regulation.num_players / len(role)\n",
    "            for role in \n",
    "        }\n",
    "        \n"
   ]
  },
  {
   "cell_type": "code",
   "execution_count": 3,
   "metadata": {},
   "outputs": [],
   "source": [
    "import numpy as np"
   ]
  },
  {
   "cell_type": "code",
   "execution_count": 5,
   "metadata": {},
   "outputs": [
    {
     "data": {
      "text/plain": [
       "array([0.        , 0.5       , 0.95257413, 0.98201379, 1.        ])"
      ]
     },
     "execution_count": 5,
     "metadata": {},
     "output_type": "execute_result"
    }
   ],
   "source": [
    "def sigmoid(x):\n",
    "    return 1 / (1 + np.exp(-x))\n",
    "sigmoid(np.array([-np.inf, 0, 3, 4, np.inf]))"
   ]
  },
  {
   "cell_type": "code",
   "execution_count": null,
   "metadata": {},
   "outputs": [],
   "source": []
  }
 ],
 "metadata": {
  "kernelspec": {
   "display_name": "Python 3",
   "language": "python",
   "name": "python3"
  },
  "language_info": {
   "codemirror_mode": {
    "name": "ipython",
    "version": 3
   },
   "file_extension": ".py",
   "mimetype": "text/x-python",
   "name": "python",
   "nbconvert_exporter": "python",
   "pygments_lexer": "ipython3",
   "version": "3.12.1"
  }
 },
 "nbformat": 4,
 "nbformat_minor": 2
}
