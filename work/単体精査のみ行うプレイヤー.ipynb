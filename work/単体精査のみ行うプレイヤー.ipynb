{
 "cells": [
  {
   "cell_type": "code",
   "execution_count": 5,
   "metadata": {},
   "outputs": [],
   "source": [
    "from dataclasses import dataclass\n",
    "import numpy as np\n",
    "from typing import List, Tuple\n",
    "from scipy.stats import spearmanr"
   ]
  },
  {
   "cell_type": "code",
   "execution_count": 6,
   "metadata": {},
   "outputs": [],
   "source": [
    "class Player:\n",
    "    def __init__(self, num_players):\n",
    "        self.scores = np.zeros(num_players)\n",
    "        self.player_scores = np.zeros((num_players, num_players))\n",
    "        self.player_alive = np.ones(num_players)\n",
    "\n",
    "    # カミングアウトする関数\n",
    "    def co(self):\n",
    "        assert NotImplementedError\n",
    "\n",
    "    # 投票する関数\n",
    "    def vote(self):\n",
    "        assert NotImplementedError\n",
    "\n",
    "    # 推理を披露する関数\n",
    "    def tell_score(self):\n",
    "        assert NotImplementedError\n",
    "\n",
    "    # 推理する関数\n",
    "    def infer(self, co_list: List[str], score_list: List[np.array]):\n",
    "        assert NotImplementedError\n",
    "\n",
    "    # 夜時間のアクションを行う関数\n",
    "    def action(self):\n",
    "        assert NotImplementedError\n",
    "\n",
    "class Villager(Player):\n",
    "    def __init__(self, num_players):\n",
    "        super().__init__(num_players)\n",
    "\n",
    "    def co(self):\n",
    "        return \"VILLAGER\"\n",
    "\n",
    "    def vote(self):\n",
    "        # 生存者の中で最もscoreが高いプレイヤーに投票\n",
    "        max_score = -np.inf\n",
    "        max_idx = -1\n",
    "        for i in range(len(self.scores)):\n",
    "            if self.player_alive[i] == 1 and self.scores[i] > max_score:\n",
    "                max_score = self.scores[i]\n",
    "                max_idx = i\n",
    "        return max_idx\n",
    "\n",
    "    def tell_score(self):\n",
    "        return self.scores\n",
    "\n",
    "    def infer(self, co_list: List[str], score_list: List[np.array]):\n",
    "        corr = [float(spearmanr(self.scores, s)[0]) for s in score_list]\n",
    "        self.scores = [\n",
    "            self.scores[i] + corr[i] for i in range(len(score_list))\n",
    "        ]\n",
    "\n",
    "    def action(self):\n",
    "        pass\n",
    "\n",
    "class Werewolf(Player):\n",
    "    def __init__(self, num_players):\n",
    "        super().__init__(num_players)\n",
    "\n",
    "    def co(self):\n",
    "        # ランダムにカミングアウト\n",
    "        if np.\n",
    "\n",
    "    def vote(self):\n",
    "        # 生存者の中で最もscoreが低いプレイヤーに投票\n",
    "        min_score = np.inf\n",
    "        min_idx = -1\n",
    "        for i in range(len(self.scores)):\n",
    "            if self.player_alive[i] == 1 and self.scores[i] < min_score:\n",
    "                min_score = self.scores[i]\n",
    "                min_idx = i\n",
    "        return min_idx\n",
    "\n",
    "    def tell_score(self):\n",
    "        return self.scores\n",
    "\n",
    "    def infer(self, co_list: List[str], score_list: List[np.array]):\n",
    "        corr = [float(spearmanr(self.scores, s)[0]) for s in score_list]\n",
    "        self.scores = [\n",
    "            self.scores[i] + corr[i] for i in range(len(score_list))\n",
    "        ]\n",
    "\n",
    "    def action(self):\n",
    "        pass"
   ]
  },
  {
   "cell_type": "code",
   "execution_count": 3,
   "metadata": {},
   "outputs": [],
   "source": []
  },
  {
   "cell_type": "code",
   "execution_count": 4,
   "metadata": {},
   "outputs": [
    {
     "data": {
      "text/plain": [
       "[0.9999999999999999, 0.3, -0.6, -0.7, -0.19999999999999998]"
      ]
     },
     "execution_count": 4,
     "metadata": {},
     "output_type": "execute_result"
    }
   ],
   "source": [
    "score_matrix = [np.random.rand(5) for _ in range(5)]\n",
    "score = score_matrix[0]\n",
    "# スピアマンの順位相関係数を計算\n",
    "correlation = [float(spearmanr(score, s)[0]) for s in score_matrix]\n",
    "correlation"
   ]
  },
  {
   "cell_type": "code",
   "execution_count": 16,
   "metadata": {},
   "outputs": [
    {
     "ename": "AttributeError",
     "evalue": "'numpy.float64' object has no attribute 'value'",
     "output_type": "error",
     "traceback": [
      "\u001b[0;31m---------------------------------------------------------------------------\u001b[0m",
      "\u001b[0;31mAttributeError\u001b[0m                            Traceback (most recent call last)",
      "Cell \u001b[0;32mIn[16], line 1\u001b[0m\n\u001b[0;32m----> 1\u001b[0m \u001b[43mcorrelation\u001b[49m\u001b[43m[\u001b[49m\u001b[38;5;241;43m0\u001b[39;49m\u001b[43m]\u001b[49m\u001b[38;5;241;43m.\u001b[39;49m\u001b[43mvalue\u001b[49m\n",
      "\u001b[0;31mAttributeError\u001b[0m: 'numpy.float64' object has no attribute 'value'"
     ]
    }
   ],
   "source": [
    "correlation[0].value"
   ]
  },
  {
   "cell_type": "code",
   "execution_count": 12,
   "metadata": {},
   "outputs": [
    {
     "data": {
      "text/plain": [
       "(array([[ 1. , -0.1,  0.1,  0.6,  0.5],\n",
       "        [-0.1,  1. , -0.8, -0.3,  0.2],\n",
       "        [ 0.1, -0.8,  1. ,  0. , -0.2],\n",
       "        [ 0.6, -0.3,  0. ,  1. ,  0.8],\n",
       "        [ 0.5,  0.2, -0.2,  0.8,  1. ]]),\n",
       " [array([0.57149901, 0.32498221, 0.46287464, 0.9752086 , 0.62584837]),\n",
       "  array([0.40575427, 0.91892143, 0.13521057, 0.20102074, 0.51365573])])"
      ]
     },
     "execution_count": 12,
     "metadata": {},
     "output_type": "execute_result"
    }
   ],
   "source": [
    "score_matrix = [np.random.rand(5) for _ in range(5)]\n",
    "# 順位相関係数\n",
    "spearmanr(score_matrix)[0], score_matrix[:2]"
   ]
  },
  {
   "cell_type": "code",
   "execution_count": 3,
   "metadata": {},
   "outputs": [],
   "source": [
    "import random"
   ]
  },
  {
   "cell_type": "code",
   "execution_count": 12,
   "metadata": {},
   "outputs": [],
   "source": [
    "class Game:\n",
    "    def __init__(self, roles):\n",
    "        self.day = 0\n",
    "        self.is_gameover = False\n",
    "        self.winners = None\n",
    "        self._define_players(roles)\n",
    "\n",
    "    def _define_roles(self, roles: List[str], seed: int = 0):\n",
    "        num_players = len(roles)\n",
    "        roles = random.sample(roles, len(roles), seed)\n",
    "        self.players = []\n",
    "        for role in roles:\n",
    "            if role == \"village\":\n",
    "                player = Village(\n",
    "                    not_werevolf_player=random.choice([i for i in range(num_players) if roles[i] != \"werewolf\"], seed)\n",
    "                )\n",
    "            elif role == \"werewolf\":\n",
    "                player = Werewolf(\n",
    "                    werewolf_players=[i for i in range(num_players) if roles[i] == \"werewolf\"]\n",
    "                )\n",
    "            elif role == \"seer\":\n",
    "                player = Seer()\n",
    "            elif role == \"bodyguard\":\n",
    "                player = Bodyguard()\n",
    "            else:\n",
    "                raise ValueError(\"Invalid role\")\n",
    "            self.players.append(player)\n",
    "\n",
    "    def run(self):\n",
    "        while not self.is_gameover:\n",
    "            self.day += 1\n",
    "            self._meeting()\n",
    "            self._vote()\n",
    "            self._judge()\n",
    "            if self.is_gameover:\n",
    "                break\n",
    "            self._action()\n",
    "            self._judge()\n",
    "        return self.winners\n",
    "\n",
    "    # 会議を行う関数\n",
    "    def _meeting(self):\n",
    "        self.co_list = [player.co() for player in self.players]\n",
    "        self.scores = np.array([player.tell_score() for player in self.players])\n",
    "        \n",
    "        for player in self.players:\n",
    "            player.infer(self.co_list, self.scores)\n",
    "    \n",
    "    # 投票を行う関数\n",
    "    def _vote(self):\n",
    "        self.votes = np.array([player.vote() for player in self.players])\n",
    "        self.vote_result = np.argmax(np.bincount(self.votes))\n",
    "        self.players[self.vote_result] = False\n",
    "\n",
    "    # 夜時間のアクションを行う関数\n",
    "    def _action(self):\n",
    "        werewolf_target = []\n",
    "        bodyguard_target = None\n",
    "        for player in self.players:\n",
    "            if player.alive:\n",
    "                if player.role == \"village\":\n",
    "                    continue\n",
    "                elif player.role == \"werewolf\":\n",
    "                    werewolf_target.append(player.action())\n",
    "                elif player.role == \"seer\":\n",
    "                    seer_target = player.action()\n",
    "                    assert(self.players[seer_target].alive)\n",
    "                    if self.players[seer_target].role == \"werewolf\":\n",
    "                        player.scores[seer_target] = np.inf\n",
    "                    else:\n",
    "                        player.scores[seer_target] = -np.inf\n",
    "                elif player.role == \"bodyguard\":\n",
    "                    bodyguard_target = player.action()\n",
    "                    assert(self.players[bodyguard_target].alive)\n",
    "            else:\n",
    "                continue\n",
    "        werewolf_target = np.random.choice(werewolf_target)\n",
    "        if bodyguard_target != werewolf_target:\n",
    "            self.players[werewolf_target].alive = False\n",
    "    \n",
    "    def _judge(self):\n",
    "        if self.players.count(\"werewolf\") == 0:\n",
    "            self.is_gameover = True\n",
    "            self.winners = \"village\"\n",
    "        elif self.players.count(\"werewolf\") >= len(self.players) / 2:\n",
    "            self.is_gameover = True\n",
    "            self.winners = \"werewolf\"\n",
    "        else:\n",
    "            self.is_gameover = False"
   ]
  },
  {
   "cell_type": "code",
   "execution_count": 5,
   "metadata": {},
   "outputs": [
    {
     "ename": "AssertionError",
     "evalue": "",
     "output_type": "error",
     "traceback": [
      "\u001b[0;31m---------------------------------------------------------------------------\u001b[0m",
      "\u001b[0;31mAssertionError\u001b[0m                            Traceback (most recent call last)",
      "Cell \u001b[0;32mIn[5], line 1\u001b[0m\n\u001b[0;32m----> 1\u001b[0m \u001b[38;5;28;01massert\u001b[39;00m(\u001b[38;5;28;01mFalse\u001b[39;00m)\n",
      "\u001b[0;31mAssertionError\u001b[0m: "
     ]
    }
   ],
   "source": [
    "assert(False)"
   ]
  },
  {
   "cell_type": "code",
   "execution_count": 24,
   "metadata": {},
   "outputs": [
    {
     "data": {
      "text/plain": [
       "array([0, 1, 1, 2, 1, 1])"
      ]
     },
     "execution_count": 24,
     "metadata": {},
     "output_type": "execute_result"
    }
   ],
   "source": [
    "np.bincount(np.array([1,2,3,4,5,3]))"
   ]
  },
  {
   "cell_type": "code",
   "execution_count": null,
   "metadata": {},
   "outputs": [],
   "source": [
    "class Seer(Player):\n",
    "    def __init__(self, game: Game):\n",
    "        super().__init__(game)\n",
    "    \n",
    "    def co(self):\n",
    "        return \"SEER\"\n",
    "    \n",
    "    def vote(self):\n",
    "        return np.argmin(self.infer())\n",
    "    \n",
    "    def talk(self):\n",
    "        return \n",
    "    \n",
    "    def infer(self):\n",
    "        return 0\n",
    "    \n",
    "    def action(self):\n",
    "        action_target_player = self.determine_action_target_player()"
   ]
  }
 ],
 "metadata": {
  "kernelspec": {
   "display_name": "Python 3",
   "language": "python",
   "name": "python3"
  },
  "language_info": {
   "codemirror_mode": {
    "name": "ipython",
    "version": 3
   },
   "file_extension": ".py",
   "mimetype": "text/x-python",
   "name": "python",
   "nbconvert_exporter": "python",
   "pygments_lexer": "ipython3",
   "version": "3.12.1"
  }
 },
 "nbformat": 4,
 "nbformat_minor": 2
}
